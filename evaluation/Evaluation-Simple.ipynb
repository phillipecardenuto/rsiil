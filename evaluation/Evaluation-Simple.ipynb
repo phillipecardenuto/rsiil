{
 "cells": [
  {
   "cell_type": "markdown",
   "metadata": {},
   "source": [
    "# Evaluation Notebook\n",
    "\n",
    "**Description**\n",
    "\n",
    "This notebook uses the output from each method to evalute their output using F1, F1_CTP, Precision, Precision_CTP\n",
    "You can access the output that we had for each method in this [DRIVE LINK](https://drive.google.com/file/d/1ns10fCc7Mz1W2wAvj39jbLxQmVyg8ufI/view?usp=sharing)\n",
    "\n",
    "----\n",
    "\n",
    "Author: João Phillipe Cardenuto\\\n",
    "Email: phillipe.cardenuto@ic.unicamp.br\\\n",
    "August, 2022\n",
    "----\n",
    "\n",
    "\n",
    "In this notebook we use the additional modules:\\\n",
    "prettytable\\\n",
    "`pip install prettytable`\\\n",
    "tqdm\\\n",
    "`pip install tqdm`\\\n",
    "\n"
   ]
  },
  {
   "cell_type": "raw",
   "metadata": {},
   "source": [
    "for src in tqdm(new_results):\n",
    "    name = Path(src).name\n",
    "    if not 'final_map_ids' in name:\n",
    "        continue\n",
    "    p = (Path('output') / Path(src.split('/results_new/')[-1]).parent)\n",
    "    if 'simple/forgery/duplication/overlap/' in str(p):\n",
    "        continue\n",
    "    if 'inpainting' in str(p):\n",
    "        continue\n",
    "        \n",
    "    if not p.is_dir():\n",
    "        print(p)\n",
    "        break\n",
    "    \n",
    "    dest = f\"overseg_{name.replace('final_map_ids','detection_map')}\"\n",
    "    dest = p / Path(dest)\n",
    "    # print(dest)\n",
    "    shutil.copy(src, dest)"
   ]
  },
  {
   "cell_type": "raw",
   "metadata": {},
   "source": [
    "new_results = glob(\"/work/jcardenuto/translate-forgery-algs/python-CMFD-adaptative-oversegmentation/python/results_new/*/**/*.*\", recursive=True)"
   ]
  },
  {
   "cell_type": "code",
   "execution_count": 1,
   "metadata": {},
   "outputs": [],
   "source": [
    "# Including path to forgery_lib dataset on the notebook\n",
    "# LIB_PATH = \"../\"\n",
    "# import sys\n",
    "# sys.path.append(LIB_PATH)\n",
    "\n",
    "from glob import glob\n",
    "import cv2\n",
    "import numpy as np\n",
    "from prettytable import PrettyTable\n",
    "import os \n",
    "from metrics import (F1, precision, F1_CTP, precision_CTP)\n",
    "from tqdm.notebook import tqdm\n",
    "from tqdm.contrib.concurrent import process_map\n",
    "import pandas as pd"
   ]
  },
  {
   "cell_type": "markdown",
   "metadata": {},
   "source": [
    "# Run Evaluation on the TESTSET - Simple Figures"
   ]
  },
  {
   "cell_type": "markdown",
   "metadata": {},
   "source": [
    "### Duplication"
   ]
  },
  {
   "cell_type": "code",
   "execution_count": 2,
   "metadata": {},
   "outputs": [],
   "source": [
    "def vole_evaluation(result, gt_pristine, gt_forgery):\n",
    "    \"\"\"\n",
    "    Evaluates the output from the method Christlein et al. (2012) “An evaluation of popular\n",
    "    copy-move forgery detection approaches\". For this we use a modified version inside \n",
    "    the detection_method directory in this from this repository.\n",
    "    \n",
    "    \"\"\"\n",
    "    \n",
    "    result = cv2.imread(result, cv2.IMREAD_GRAYSCALE)\n",
    "    \n",
    "    # Insert pristine regions and forgery regions in the same map\n",
    "    gt_forgery = cv2.imread(gt_forgery, cv2.IMREAD_GRAYSCALE)\n",
    "    gt_pristine = cv2.imread(gt_pristine, cv2.IMREAD_GRAYSCALE)\n",
    "    a = np.unique(gt_pristine)\n",
    "    a = a[a!=0]\n",
    "    for i in a:\n",
    "        gt_forgery[gt_pristine == i] = i\n",
    "    \n",
    "    f1 = F1(result,gt_forgery)\n",
    "    f1_cc = 0 if f1==0 else F1_CTP(result,gt_forgery) # Optimize f1_cc to avoid check when f1 is 0\n",
    "    p = precision(result,gt_forgery)\n",
    "    p_cc = 0 if p==0 else precision_CTP(result,gt_forgery) # Optimize p_cc to avoid check when p is 0\n",
    "    \n",
    "    return f1, f1_cc ,p, p_cc\n",
    "\n",
    "\n",
    "def patch_match_evaluation(result, gt_pristine, gt_forgery):\n",
    "    \"\"\"\n",
    "    Evaluates the output from the method from Cozzolino et al. (2015) “Efficient dense-field \n",
    "    copy-move forgery detection”, from the implemented version of Ehret (2018), “Automatic detection of internal copy-move\n",
    "    forgeries in images”. For this we use a modified version inside the detection_method directory in this from this repository.\n",
    "    \n",
    "    \"\"\"\n",
    "    \n",
    "    gt_forgery = cv2.imread(gt_forgery, cv2.IMREAD_GRAYSCALE)\n",
    "    gt_pristine = cv2.imread(gt_pristine, cv2.IMREAD_GRAYSCALE)\n",
    "    result = np.fromfile(result,np.int32).reshape(gt_pristine.shape).astype(\"uint8\")\n",
    "    \n",
    "    a = np.unique(gt_pristine)\n",
    "    a = a[a!=0]\n",
    "    for i in a:\n",
    "        gt_forgery[gt_pristine == i] = i\n",
    "    \n",
    "    f1 = F1(result,gt_forgery)\n",
    "    f1_cc = 0 if f1==0 else F1_CTP(result,gt_forgery) # Optimize f1_cc to avoid check when f1 is 0\n",
    "    p = precision(result,gt_forgery)\n",
    "    p_cc = 0 if p==0 else precision_CTP(result,gt_forgery) # Optimize p_cc to avoid check when p is 0\n",
    "    \n",
    "    return f1, f1_cc ,p, p_cc\n",
    "\n",
    "def busternet_evaluation(result_path, gt_pristine, gt_forgery):\n",
    "    \"\"\"\n",
    "    Evaluates the output from Wu et al. (2018) \"Busternet: Detecting image copy-move forgery with source/target localization\".\n",
    "    To generate the ouput, we used the pre-trained model from https://github.com/isi-vista/BusterNet\n",
    "    \"\"\"\n",
    "    \n",
    "    result = cv2.imread(result_path)\n",
    "    # Make the output of busternet as binary\n",
    "    result = cv2.cvtColor(result, cv2.COLOR_BGR2RGB).astype(\"uint8\")\n",
    "    output_format = np.zeros((result.shape[0],result.shape[1])).astype(\"uint8\")\n",
    "    # If the color of the output is RED or GREEN insert it on output_format\n",
    "    output_format[ result[:,:,0] > 100] = 1\n",
    "    output_format[ result[:,:,1] > 100] = 1\n",
    "    result = output_format\n",
    "    \n",
    "    if 'pristine' in result_path:\n",
    "        gt_forgery = np.zeros((result.shape[0],result.shape[1])).astype(\"uint8\")\n",
    "        \n",
    "    else:     \n",
    "        gt_forgery = cv2.imread(gt_forgery, cv2.IMREAD_GRAYSCALE)\n",
    "        gt_pristine = cv2.imread(gt_pristine, cv2.IMREAD_GRAYSCALE)\n",
    "        \n",
    "        # Pre-process gt_forgery as the output of busternet\n",
    "        gt_forgery [ gt_pristine > 0] = 1\n",
    "        gt_forgery = cv2.resize(gt_forgery, (result.shape[1],result.shape[0]))\n",
    "        gt_forgery[gt_forgery > 0] = 1\n",
    "    \n",
    "    f1 = F1(result,gt_forgery)\n",
    "    f1_cc = 0 if f1==0 else F1_CTP(result,gt_forgery) # Optimize f1_cc to avoid check when f1 is 0\n",
    "    p = precision(result,gt_forgery)\n",
    "    p_cc = 0 if p==0 else precision_CTP(result,gt_forgery) # Optimize p_cc to avoid check when p is 0\n",
    "    \n",
    "    return f1, f1_cc ,p, p_cc\n",
    "\n",
    "def overseg_evaluation(result_path, gt_pristine, gt_forgery):\n",
    "    \"\"\"\n",
    "    Evaluates the output from Pun et al. (2015) \"Image forgery detection using adaptive over-segmentation and feature points matching\".\n",
    "    We base our implementation in the Pun et al. article and in the MatLab code from the github user MohenseZandi\n",
    "    \"\"\"\n",
    "    \n",
    "    gt_forgery = cv2.imread(gt_forgery, cv2.IMREAD_GRAYSCALE)\n",
    "    gt_pristine = cv2.imread(gt_pristine, cv2.IMREAD_GRAYSCALE)\n",
    "    result = cv2.imread(result_path, cv2.IMREAD_GRAYSCALE)\n",
    "    \n",
    "    a = np.unique(gt_pristine)\n",
    "    a = a[a!=0]\n",
    "    for i in a:\n",
    "        gt_forgery[gt_pristine == i] = i\n",
    "    \n",
    "    f1 = F1(result,gt_forgery)\n",
    "    f1_cc = 0 if f1==0 else F1_CTP(result,gt_forgery) # Optimize f1_cc to avoid check when f1 is 0\n",
    "    p = precision(result,gt_forgery)\n",
    "    p_cc = 0 if p==0 else precision_CTP(result,gt_forgery) # Optimize p_cc to avoid check when p is 0\n",
    "    \n",
    "    return f1, f1_cc ,p, p_cc\n",
    "\n",
    "def hfpm_evaluation (result_path, gt_pristine, gt_forgery):\n",
    "    \"\"\"\n",
    "    Evaluates the output from Pun et al. (2015) \"Fast and Effective Image Copy-Move Forgery Detection via Hierarchical Feature Point Matching\".\n",
    "    We base our implementation in the Yuanman et al. article and in the original Matlab code https://github.com/YuanmanLi/FE-CMFD-HFPM\n",
    "    \"\"\"\n",
    "    \n",
    "    gt_forgery = cv2.imread(gt_forgery, cv2.IMREAD_GRAYSCALE)\n",
    "    gt_pristine = cv2.imread(gt_pristine, cv2.IMREAD_GRAYSCALE)\n",
    "    result = cv2.imread(result_path, cv2.IMREAD_GRAYSCALE)\n",
    "    \n",
    "    a = np.unique(gt_pristine)\n",
    "    a = a[a!=0]\n",
    "    for i in a:\n",
    "        gt_forgery[gt_pristine == i] = i\n",
    "    \n",
    "    f1 = F1(result,gt_forgery)\n",
    "    f1_cc = 0 if f1==0 else F1_CTP(result,gt_forgery) # Optimize f1_cc to avoid check when f1 is 0\n",
    "    p = precision(result,gt_forgery)\n",
    "    p_cc = 0 if p==0 else precision_CTP(result,gt_forgery) # Optimize p_cc to avoid check when p is 0\n",
    "    \n",
    "    return f1, f1_cc ,p, p_cc\n",
    "\n",
    "def check_output(detection_output, gt_forgery, gt_pristine, method):\n",
    "    \n",
    "    if not os.path.isfile(detection_output):\n",
    "        return (0,0,0,0)\n",
    "    \n",
    "    if method == 'vole':\n",
    "        return vole_evaluation(detection_output, gt_pristine, gt_forgery)\n",
    "    elif method == 'pm': #patchmacth\n",
    "        return patch_match_evaluation(detection_output, gt_pristine, gt_forgery)\n",
    "    elif method == 'busternet':\n",
    "        return busternet_evaluation (detection_output, gt_pristine, gt_forgery)\n",
    "    elif method == 'overseg':\n",
    "        return overseg_evaluation (detection_output, gt_pristine, gt_forgery)\n",
    "    elif method == 'hfpm':\n",
    "        return hfpm_evaluation (detection_output, gt_pristine, gt_forgery)\n",
    "    \n",
    "    return (0,0,0,0)\n",
    "        "
   ]
  },
  {
   "cell_type": "markdown",
   "metadata": {},
   "source": [
    "# Evaluating Copy-Move Simple Figures\n",
    "Here we evaluate copy move images for duplication propose and for cleaning propose.\n",
    "\n",
    "In a duplication forgery, an object is paste on the top of a background region\n",
    "\n",
    "In a cleaning forgery, a background region is pasted on the top of a object (hidden the object).\n",
    "\n",
    "-----\n",
    "### Detection Methods\n",
    "- SURF\n",
    "- SIFT\n",
    "- Zernike using PatchMatch\n",
    "- Sift using PatchMatch"
   ]
  },
  {
   "cell_type": "code",
   "execution_count": 5,
   "metadata": {},
   "outputs": [],
   "source": [
    "test_path = '/work/jcardenuto/translate-forgery-algs/tmp/'\n",
    "test_simple_figures = glob(f'{test_path}testset/simple/forgery/cleaning/bf/**/annotations.json',recursive=True) + glob(f'{test_path}testset/simple/forgery/duplication/copy-move/**/annotations.json',recursive=True)\n",
    "test_simple_figures = [t.replace(test_path,'') for t in test_simple_figures]"
   ]
  },
  {
   "cell_type": "code",
   "execution_count": null,
   "metadata": {
    "scrolled": true
   },
   "outputs": [],
   "source": [
    "SIMPLE_EVAL = pd.DataFrame(columns=['F1','F1-Check','Precision','Precision-Check','Method', \"Detection-Map\"])\n",
    "\n",
    "for test_figure in tqdm(test_simple_figures):\n",
    "    gt_forgery = test_path + os.path.sep + os.path.dirname(test_figure) + os.path.sep + \"figure_forgery_gt.png\"\n",
    "    gt_pristine = test_path + os.path.sep +  os.path.dirname(test_figure) + os.path.sep + \"figure_pristine_gt.png\"\n",
    "    \n",
    "    surf_vole = os.path.dirname(test_figure.replace('testset','output')) + os.path.sep + \"vole_surf_figure_forgery_labeled.png\"\n",
    "    sift_vole = os.path.dirname(test_figure.replace('testset','output')) + os.path.sep + \"vole_sift_figure_forgery_labeled.png\"\n",
    "    sift_pm = os.path.dirname(test_figure.replace('testset','output')) + os.path.sep + \"fd_sift_figure_forgery.png.bin\"\n",
    "    zernike_pm = os.path.dirname(test_figure.replace('testset','output')) + os.path.sep + \"fd_zernik_figure_forgery.png.bin\"\n",
    "    busternet = os.path.dirname(test_figure.replace('testset','output')) + os.path.sep + \"busternet_figure_forgery.png\"\n",
    "    overseg = os.path.dirname(test_figure.replace('testset','output')) + os.path.sep + \"overseg_figure_forgery_detection_map.png\"\n",
    "    hfpm = os.path.dirname(test_figure.replace('testset','output')) + os.path.sep + \"hfpm_figure_forgery_detection_map.png\"\n",
    "    \n",
    "    \n",
    "    f1, f1_cc ,p, p_cc = check_output(surf_vole, gt_pristine, gt_forgery,'vole')\n",
    "    SIMPLE_EVAL = SIMPLE_EVAL.append(pd.DataFrame({'F1':[f1],'F1-Check':[f1_cc],'Precision':[p],'Precision-Check':[p_cc], \"Method\":'SURF-VOLE', \"Detection-Map\": surf_vole}))\n",
    "    \n",
    "    f1, f1_cc ,p, p_cc = check_output(sift_vole, gt_pristine, gt_forgery,'vole')\n",
    "    SIMPLE_EVAL = SIMPLE_EVAL.append(pd.DataFrame({'F1':[f1],'F1-Check':[f1_cc],'Precision':[p],'Precision-Check':[p_cc], \"Method\":'SIFT-VOLE', \"Detection-Map\": sift_vole}))\n",
    "    \n",
    "    f1, f1_cc ,p, p_cc = check_output(sift_pm, gt_pristine, gt_forgery,'pm')\n",
    "    SIMPLE_EVAL = SIMPLE_EVAL.append(pd.DataFrame({'F1':[f1],'F1-Check':[f1_cc],'Precision':[p],'Precision-Check':[p_cc], \"Method\":'SIFT-PM', \"Detection-Map\": sift_pm}))\n",
    "    \n",
    "    f1, f1_cc ,p, p_cc = check_output(zernike_pm, gt_pristine, gt_forgery,'pm')\n",
    "    SIMPLE_EVAL = SIMPLE_EVAL.append(pd.DataFrame({'F1':[f1],'F1-Check':[f1_cc],'Precision':[p],'Precision-Check':[p_cc], \"Method\":'ZERNIKE-PM', \"Detection-Map\": zernike_pm}))\n",
    "    \n",
    "    f1, f1_cc ,p, p_cc = check_output(busternet, gt_pristine, gt_forgery,'busternet')\n",
    "    SIMPLE_EVAL = SIMPLE_EVAL.append(pd.DataFrame({'F1':[f1],'F1-Check':[f1_cc],'Precision':[p],'Precision-Check':[p_cc], \"Method\":'BUSTERNET', \"Detection-Map\": busternet}))\n",
    "    \n",
    "    f1, f1_cc ,p, p_cc = check_output(overseg, gt_pristine, gt_forgery,'overseg')\n",
    "    SIMPLE_EVAL = SIMPLE_EVAL.append(pd.DataFrame({'F1':[f1],'F1-Check':[f1_cc],'Precision':[p],'Precision-Check':[p_cc], \"Method\":'OVERSEG', \"Detection-Map\": overseg}))\n",
    "    \n",
    "    f1, f1_cc ,p, p_cc = check_output(hfpm, gt_pristine, gt_forgery,'hfpm')\n",
    "    SIMPLE_EVAL = SIMPLE_EVAL.append(pd.DataFrame({'F1':[f1],'F1-Check':[f1_cc],'Precision':[p],'Precision-Check':[p_cc], \"Method\":'HFPM', \"Detection-Map\": hfpm}))\n",
    "    \n"
   ]
  },
  {
   "cell_type": "code",
   "execution_count": 215,
   "metadata": {},
   "outputs": [],
   "source": [
    "gt_forgery = test_path + os.path.sep + os.path.dirname(test_figure) + os.path.sep + \"figure_forgery_map.png\"\n",
    "gt_pristine = test_path + os.path.sep +  os.path.dirname(test_figure) + os.path.sep + \"figure_pristine_map.png\"\n",
    "gt_forgery = cv2.imread(gt_forgery, cv2.IMREAD_GRAYSCALE)\n",
    "gt_pristine = cv2.imread(gt_pristine, cv2.IMREAD_GRAYSCALE)\n",
    "result = cv2.imread(overseg)"
   ]
  },
  {
   "cell_type": "code",
   "execution_count": 222,
   "metadata": {},
   "outputs": [
    {
     "data": {
      "text/plain": [
       "'testset/simple/forgery/cleaning/bf/00052/annotations.json'"
      ]
     },
     "execution_count": 222,
     "metadata": {},
     "output_type": "execute_result"
    }
   ],
   "source": [
    "test_figure"
   ]
  },
  {
   "cell_type": "code",
   "execution_count": 216,
   "metadata": {},
   "outputs": [
    {
     "data": {
      "text/plain": [
       "(3, 320, 3)"
      ]
     },
     "execution_count": 216,
     "metadata": {},
     "output_type": "execute_result"
    }
   ],
   "source": [
    "result.shape"
   ]
  },
  {
   "cell_type": "code",
   "execution_count": 18,
   "metadata": {},
   "outputs": [
    {
     "name": "stdout",
     "output_type": "stream",
     "text": [
      "Populating the interactive namespace from numpy and matplotlib\n"
     ]
    }
   ],
   "source": [
    "%pylab inline\n",
    "from PIL import Image"
   ]
  },
  {
   "cell_type": "code",
   "execution_count": 15,
   "metadata": {},
   "outputs": [],
   "source": [
    "from datetime import datetime\n",
    "# Save CSV file\n",
    "SIMPLE_EVAL.to_csv(f'simple_eval_{datetime.now().strftime(\"20%y-%m-%d-%H-%M\")}.csv')"
   ]
  },
  {
   "cell_type": "code",
   "execution_count": null,
   "metadata": {},
   "outputs": [],
   "source": [
    "SIMPLE_EVAL.sort_values(by=['F1']).iloc[-50:]"
   ]
  },
  {
   "cell_type": "code",
   "execution_count": 32,
   "metadata": {},
   "outputs": [],
   "source": [
    "SIMPLE_EVAL = SIMPLE_EVAL.reset_index()"
   ]
  },
  {
   "cell_type": "code",
   "execution_count": 1,
   "metadata": {},
   "outputs": [],
   "source": [
    "from glob import glob\n",
    "import cv2\n",
    "import numpy as np\n",
    "from prettytable import PrettyTable\n",
    "import os \n",
    "from metrics import (F1, precision, F1_CTP, precision_CTP)\n",
    "from tqdm.notebook import tqdm\n",
    "from tqdm.contrib.concurrent import process_map\n",
    "import pandas as pd"
   ]
  },
  {
   "cell_type": "code",
   "execution_count": 2,
   "metadata": {},
   "outputs": [],
   "source": [
    "SIMPLE_EVAL = pd.read_csv(\"simple_eval_2022-02-24-07-47.csv\")"
   ]
  },
  {
   "cell_type": "code",
   "execution_count": 3,
   "metadata": {},
   "outputs": [],
   "source": [
    "SIMPLE_EVAL['MODALITY'] = None\n",
    "\n",
    "for index, row in SIMPLE_EVAL.iterrows():\n",
    "    modality = row['Detection-Map']\n",
    "    modality = \"/\".join(modality.split(\"/\")[1:-2])\n",
    "    SIMPLE_EVAL.loc[index, 'MODALITY'] = modality\n",
    "    "
   ]
  },
  {
   "cell_type": "code",
   "execution_count": 7,
   "metadata": {},
   "outputs": [
    {
     "name": "stdout",
     "output_type": "stream",
     "text": [
      "+--------------------------------------------------+------------+---------+-----------+-----------+-----------+---------+------+\n",
      "|               Modality - F1 Score                | ZERNIKE-PM | SIFT-PM | SURF-VOLE | SIFT-VOLE | BUSTERNET | OVERSEG | HFPM |\n",
      "+--------------------------------------------------+------------+---------+-----------+-----------+-----------+---------+------+\n",
      "|            simple/forgery/cleaning/bf            |    0.00    |   0.94  |    0.00   |    0.00   |    3.55   |   0.26  | 0.00 |\n",
      "|    simple/forgery/duplication/copy-move/flip     |    0.00    |   0.85  |    0.60   |    0.64   |    1.95   |   1.83  | 0.17 |\n",
      "|   simple/forgery/duplication/copy-move/random    |    8.90    |  13.47  |    3.03   |    4.67   |   16.83   |  15.60  | 4.02 |\n",
      "|  simple/forgery/duplication/copy-move/rotation   |    0.00    |   0.74  |    0.26   |    0.46   |    5.19   |   6.36  | 1.47 |\n",
      "| simple/forgery/duplication/copy-move/translation |    1.14    |   4.98  |    0.25   |    0.55   |    9.72   |   6.15  | 2.40 |\n",
      "+--------------------------------------------------+------------+---------+-----------+-----------+-----------+---------+------+\n",
      "==================================================================================================================================\n",
      "----------------------------------------------------------------------------------------------------------------------------------\n",
      "==================================================================================================================================\n",
      "+--------------------------------------------------+------------+---------+-----------+-----------+-----------+---------+------+\n",
      "|         Modality - F1 - Score with Check         | ZERNIKE-PM | SIFT-PM | SURF-VOLE | SIFT-VOLE | BUSTERNET | OVERSEG | HFPM |\n",
      "+--------------------------------------------------+------------+---------+-----------+-----------+-----------+---------+------+\n",
      "|            simple/forgery/cleaning/bf            |    0.00    |   0.08  |    0.00   |    0.00   |    2.59   |   0.04  | 0.00 |\n",
      "|    simple/forgery/duplication/copy-move/flip     |    0.00    |   0.55  |    0.59   |    0.54   |    1.19   |   0.99  | 0.14 |\n",
      "|   simple/forgery/duplication/copy-move/random    |    8.82    |  12.51  |    3.03   |    4.66   |   16.04   |  13.31  | 3.50 |\n",
      "|  simple/forgery/duplication/copy-move/rotation   |    0.00    |   0.39  |    0.26   |    0.46   |    2.42   |   5.24  | 1.42 |\n",
      "| simple/forgery/duplication/copy-move/translation |    0.57    |   3.82  |    0.25   |    0.55   |    6.86   |   4.02  | 1.36 |\n",
      "+--------------------------------------------------+------------+---------+-----------+-----------+-----------+---------+------+\n",
      "==================================================================================================================================\n",
      "----------------------------------------------------------------------------------------------------------------------------------\n",
      "==================================================================================================================================\n",
      "+--------------------------------------------------+------------+---------+-----------+-----------+-----------+---------+------+\n",
      "|               Modality - Precision               | ZERNIKE-PM | SIFT-PM | SURF-VOLE | SIFT-VOLE | BUSTERNET | OVERSEG | HFPM |\n",
      "+--------------------------------------------------+------------+---------+-----------+-----------+-----------+---------+------+\n",
      "|            simple/forgery/cleaning/bf            |    0.00    |   1.06  |    0.00   |    0.00   |   15.83   |   0.42  | 0.00 |\n",
      "|    simple/forgery/duplication/copy-move/flip     |    0.00    |   1.13  |    0.96   |    1.04   |   17.28   |   3.78  | 0.12 |\n",
      "|   simple/forgery/duplication/copy-move/random    |   12.33    |  14.55  |    5.63   |   10.24   |   58.61   |  25.68  | 3.86 |\n",
      "|  simple/forgery/duplication/copy-move/rotation   |    0.00    |   0.82  |    0.34   |    0.68   |   19.50   |  10.81  | 1.27 |\n",
      "| simple/forgery/duplication/copy-move/translation |    2.18    |   5.36  |    0.37   |    0.73   |   29.13   |  10.05  | 2.13 |\n",
      "+--------------------------------------------------+------------+---------+-----------+-----------+-----------+---------+------+\n",
      "==================================================================================================================================\n",
      "----------------------------------------------------------------------------------------------------------------------------------\n",
      "==================================================================================================================================\n",
      "+--------------------------------------------------+------------+---------+-----------+-----------+-----------+---------+------+\n",
      "|         Modality - Precision with Check          | ZERNIKE-PM | SIFT-PM | SURF-VOLE | SIFT-VOLE | BUSTERNET | OVERSEG | HFPM |\n",
      "+--------------------------------------------------+------------+---------+-----------+-----------+-----------+---------+------+\n",
      "|            simple/forgery/cleaning/bf            |    0.00    |   0.09  |    0.00   |    0.00   |    8.71   |   0.07  | 0.00 |\n",
      "|    simple/forgery/duplication/copy-move/flip     |    0.00    |   0.77  |    0.94   |    0.87   |    5.94   |   2.15  | 0.10 |\n",
      "|   simple/forgery/duplication/copy-move/random    |   12.25    |  13.52  |    5.63   |   10.20   |   46.56   |  22.36  | 3.40 |\n",
      "|  simple/forgery/duplication/copy-move/rotation   |    0.00    |   0.38  |    0.34   |    0.68   |    6.92   |   8.87  | 1.23 |\n",
      "| simple/forgery/duplication/copy-move/translation |    0.94    |   3.86  |    0.37   |    0.73   |   17.12   |   6.49  | 1.04 |\n",
      "+--------------------------------------------------+------------+---------+-----------+-----------+-----------+---------+------+\n"
     ]
    }
   ],
   "source": [
    "###  Modality - F1 Score (No consistent Check)\n",
    "x = PrettyTable()\n",
    "x.field_names = [\"Modality - F1 Score\", \"ZERNIKE-PM\",'SIFT-PM', \"SURF-VOLE\", \"SIFT-VOLE\", 'BUSTERNET', 'OVERSEG', 'HFPM']\n",
    "    \n",
    "for g in SIMPLE_EVAL.groupby('MODALITY'):\n",
    "    modality_name = g[0]\n",
    "    \n",
    "   \n",
    "    modality = g[1].drop(columns=[\"index\"])\n",
    "    means_f1 = {}\n",
    "    for method, result in modality[['F1', 'Method']].groupby(\"Method\"):\n",
    "         means[method] = \"%0.2f\"%(np.round(result.mean()[0]*100, 2))\n",
    "    \n",
    "    x.add_row([modality_name] +[ means[method] for method in [\"ZERNIKE-PM\",'SIFT-PM', \"SURF-VOLE\", \"SIFT-VOLE\", 'BUSTERNET', 'OVERSEG', 'HFPM']] )\n",
    "            \n",
    "print(x)\n",
    "print(\"=\"*130)\n",
    "print(\"-\"*130)\n",
    "print(\"=\"*130)\n",
    "\n",
    "###  Modality - F1 Score CTP (WITH consistent Check)\n",
    "x = PrettyTable()\n",
    "x.field_names = [\"Modality - F1 - Score with Check\", \"ZERNIKE-PM\",'SIFT-PM', \"SURF-VOLE\", \"SIFT-VOLE\", 'BUSTERNET', 'OVERSEG', 'HFPM']\n",
    "    \n",
    "for g in SIMPLE_EVAL.groupby('MODALITY'):\n",
    "    modality_name = g[0]\n",
    "    \n",
    "   \n",
    "    modality = g[1].drop(columns=[\"index\"])\n",
    "    means = {}\n",
    "    for method, result in modality[['F1-Check', 'Method']].groupby(\"Method\"):\n",
    "         means[method] = \"%0.2f\"%(np.round(result.mean()[0]*100, 2))\n",
    "    \n",
    "    x.add_row([modality_name] +[ means[method] for method in [\"ZERNIKE-PM\",'SIFT-PM', \"SURF-VOLE\", \"SIFT-VOLE\", 'BUSTERNET', 'OVERSEG', 'HFPM']] )\n",
    "            \n",
    "print(x)\n",
    "print(\"=\"*130)\n",
    "print(\"-\"*130)\n",
    "print(\"=\"*130)\n",
    "\n",
    "###  Modality - Precision Score (No consistent Check)\n",
    "x = PrettyTable()\n",
    "x.field_names = [\"Modality - Precision\", \"ZERNIKE-PM\",'SIFT-PM', \"SURF-VOLE\", \"SIFT-VOLE\", 'BUSTERNET',  'OVERSEG', 'HFPM']\n",
    "    \n",
    "for g in SIMPLE_EVAL.groupby('MODALITY'):\n",
    "    modality_name = g[0]\n",
    "    \n",
    "   \n",
    "    modality = g[1].drop(columns=[\"index\"])\n",
    "    means = {}\n",
    "    for method, result in modality[['Precision', 'Method']].groupby(\"Method\"):\n",
    "         means[method] = \"%0.2f\"%(np.round(result.mean()[0]*100, 2))\n",
    "    \n",
    "    x.add_row([modality_name] +[ means[method] for method in [\"ZERNIKE-PM\",'SIFT-PM', \"SURF-VOLE\", \"SIFT-VOLE\", 'BUSTERNET',  'OVERSEG', 'HFPM']] )\n",
    "            \n",
    "print(x)\n",
    "print(\"=\"*130)\n",
    "print(\"-\"*130)\n",
    "print(\"=\"*130)\n",
    "\n",
    "\n",
    "###  Modality - Precision Score (With consistent Check)\n",
    "x = PrettyTable()\n",
    "x.field_names = [\"Modality - Precision with Check\", \"ZERNIKE-PM\",'SIFT-PM', \"SURF-VOLE\", \"SIFT-VOLE\", 'BUSTERNET',  'OVERSEG', 'HFPM']\n",
    "    \n",
    "for g in SIMPLE_EVAL.groupby('MODALITY'):\n",
    "    modality_name = g[0]\n",
    "    \n",
    "   \n",
    "    modality = g[1].drop(columns=[\"index\"])\n",
    "    means = {}\n",
    "    for method, result in modality[['Precision-Check', 'Method']].groupby(\"Method\"):\n",
    "         means[method] = \"%0.2f\"%(np.round(result.mean()[0]*100, 2))\n",
    "    \n",
    "    x.add_row([modality_name] +[ means[method] for method in [\"ZERNIKE-PM\",'SIFT-PM', \"SURF-VOLE\", \"SIFT-VOLE\", 'BUSTERNET',  'OVERSEG', 'HFPM']] )\n",
    "            \n",
    "print(x)"
   ]
  },
  {
   "cell_type": "code",
   "execution_count": 49,
   "metadata": {},
   "outputs": [],
   "source": [
    "\n",
    "def format_output(means_f1, means_ctp):\n",
    "    highest_f1 = max([float(val[1]) for val in means_f1.items()])\n",
    "    highest_ctp = max([float(val[1]) for val in means_ctp.items()])\n",
    "    \n",
    "    output_string = \"\"\n",
    "    for m in [\"ZERNIKE-PM\",'SIFT-PM', \"SURF-VOLE\", \"SIFT-VOLE\", 'OVERSEG', 'HFPM', 'BUSTERNET']:\n",
    "        res_f1 = float(means_f1[m])\n",
    "        \n",
    "        if res_f1 == highest_f1:\n",
    "            res_f1 = \"& \\\\textbf{\\\\num{%.2f}} \"%res_f1\n",
    "        else:\n",
    "             res_f1 = \"& \\\\num{%.2f}\"%res_f1\n",
    "        output_string = output_string + f\" {res_f1}\"\n",
    "        \n",
    "        res_ctp = float(means_ctp[m])\n",
    "        \n",
    "        if res_ctp == highest_ctp:\n",
    "            res_ctp = \"& \\\\textbf{\\\\num{%.2f}}\"%res_ctp\n",
    "        else:\n",
    "             res_ctp = \"& \\\\num{%.2f} \"%res_ctp\n",
    "                \n",
    "        output_string =   output_string + f\" {res_ctp}\"\n",
    "        \n",
    "    return output_string"
   ]
  },
  {
   "cell_type": "code",
   "execution_count": 25,
   "metadata": {},
   "outputs": [
    {
     "data": {
      "text/plain": [
       "{'BUSTERNET': '9.72',\n",
       " 'HFPM': '2.40',\n",
       " 'OVERSEG': '6.15',\n",
       " 'SIFT-PM': '4.98',\n",
       " 'SIFT-VOLE': '0.55',\n",
       " 'SURF-VOLE': '0.25',\n",
       " 'ZERNIKE-PM': '1.14'}"
      ]
     },
     "execution_count": 25,
     "metadata": {},
     "output_type": "execute_result"
    }
   ],
   "source": [
    "means_f1"
   ]
  },
  {
   "cell_type": "code",
   "execution_count": 59,
   "metadata": {},
   "outputs": [
    {
     "name": "stdout",
     "output_type": "stream",
     "text": [
      "simple/forgery/cleaning/bf\n",
      "simple/forgery/duplication/copy-move/flip\n",
      "simple/forgery/duplication/copy-move/random\n",
      "simple/forgery/duplication/copy-move/rotation\n",
      "simple/forgery/duplication/copy-move/translation\n"
     ]
    }
   ],
   "source": [
    "for g in SIMPLE_EVAL.groupby('MODALITY'):\n",
    "    modality_name = g[0]\n",
    "    print(modality_name)"
   ]
  },
  {
   "cell_type": "code",
   "execution_count": 63,
   "metadata": {},
   "outputs": [
    {
     "name": "stdout",
     "output_type": "stream",
     "text": [
      "SIMPLE/FORGERY/CLEANING/BF\n",
      " & \\num{0.00} & \\num{0.00}  & \\num{0.94} & \\num{0.08}  & \\num{0.00} & \\num{0.00}  & \\num{0.00} & \\num{0.00}  & \\num{0.26} & \\num{0.04}  & \\num{0.00} & \\num{0.00}  & \\textbf{\\num{3.55}}  & \\textbf{\\num{2.59}} \\\\ \\hline\n",
      "================================================================================\n",
      "SIMPLE/FORGERY/DUPLICATION/COPY-MOVE/FLIP\n",
      " & \\num{0.00} & \\num{0.00}  & \\num{0.85} & \\num{0.55}  & \\num{0.60} & \\num{0.59}  & \\num{0.64} & \\num{0.54}  & \\num{1.83} & \\num{0.99}  & \\num{0.17} & \\num{0.14}  & \\textbf{\\num{1.95}}  & \\textbf{\\num{1.19}} \\\\ \\hline\n",
      "================================================================================\n",
      "SIMPLE/FORGERY/DUPLICATION/COPY-MOVE/RANDOM\n",
      " & \\num{8.90} & \\num{8.82}  & \\num{13.47} & \\num{12.51}  & \\num{3.03} & \\num{3.03}  & \\num{4.67} & \\num{4.66}  & \\num{15.60} & \\num{13.31}  & \\num{4.02} & \\num{3.50}  & \\textbf{\\num{16.83}}  & \\textbf{\\num{16.04}} \\\\ \\hline\n",
      "================================================================================\n",
      "SIMPLE/FORGERY/DUPLICATION/COPY-MOVE/ROTATION\n",
      " & \\num{0.00} & \\num{0.00}  & \\num{0.74} & \\num{0.39}  & \\num{0.26} & \\num{0.26}  & \\num{0.46} & \\num{0.46}  & \\textbf{\\num{6.36}}  & \\textbf{\\num{5.24}} & \\num{1.47} & \\num{1.42}  & \\num{5.19} & \\num{2.42}  \\\\ \\hline\n",
      "================================================================================\n",
      "SIMPLE/FORGERY/DUPLICATION/COPY-MOVE/TRANSLATION\n",
      " & \\num{1.14} & \\num{0.57}  & \\num{4.98} & \\num{3.82}  & \\num{0.25} & \\num{0.25}  & \\num{0.55} & \\num{0.55}  & \\num{6.15} & \\num{4.02}  & \\num{2.40} & \\num{1.36}  & \\textbf{\\num{9.72}}  & \\textbf{\\num{6.86}} \\\\ \\hline\n",
      "================================================================================\n",
      "AVERAGE\n",
      " & \\num{2.01} & \\num{1.88}  & \\num{4.20} & \\num{3.47}  & \\num{0.83} & \\num{0.83}  & \\num{1.26} & \\num{1.24}  & \\num{6.04} & \\num{4.72}  & \\num{1.61} & \\num{1.28}  & \\textbf{\\num{7.45}}  & \\textbf{\\num{5.82}} \\\\ \\hline\n",
      "================================================================================\n"
     ]
    }
   ],
   "source": [
    "###  Modality - F1 Score\n",
    "tp_results = pd.DataFrame()\n",
    "ctp_results = pd.DataFrame()\n",
    "\n",
    "\n",
    "map_methods = {'simple/forgery/cleaning/bf': 'Cleaning with Brute-Force',\n",
    "               'simple/forgery/duplication/copy-move/flip': 'Copy-Move (Flip)',\n",
    "               'simple/forgery/duplication/copy-move/random': 'Copy-Move (Random)',\n",
    "               'simple/forgery/duplication/copy-move/rotation': 'Copy-Move (Rotation)',\n",
    "               'simple/forgery/duplication/copy-move/translation' :'Copy-move (Translation)'\n",
    "              }\n",
    "average_f1 = {m:0 for m in [\"ZERNIKE-PM\",'SIFT-PM', \"SURF-VOLE\", \"SIFT-VOLE\", 'OVERSEG', 'HFPM', 'BUSTERNET']}\n",
    "average_ctp = {m:0 for m in [\"ZERNIKE-PM\",'SIFT-PM', \"SURF-VOLE\", \"SIFT-VOLE\", 'OVERSEG', 'HFPM', 'BUSTERNET']}\n",
    "\n",
    "index= -1\n",
    "for g in SIMPLE_EVAL.groupby('MODALITY'):\n",
    "    index+=1\n",
    "    modality_name = g[0]\n",
    "    modality = g[1].drop(columns=[\"index\"])\n",
    "    means_f1 = {}\n",
    "    means_ctp = {}\n",
    "    \n",
    "    print(modality_name.upper())\n",
    "    # TP results\n",
    "    for method, result in modality[['F1', 'Method']].groupby(\"Method\"):\n",
    "        means_f1[method] = \"%0.2f\"%(np.round(result.mean()[0]*100, 2))\n",
    "        average_f1[method] += np.round(result.mean()[0]*100, 2)\n",
    "        tp_results.loc[method,map_methods[modality_name]] = np.round(result.mean()[0]*100, 2)\n",
    "        \n",
    "        \n",
    "    # CTP results\n",
    "    for method, result in modality[['F1-Check', 'Method']].groupby(\"Method\"):\n",
    "        means_ctp[method] = \"%0.2f\"%(np.round(result.mean()[0]*100, 2))\n",
    "        average_ctp[method] += result.mean()[0]*100\n",
    "        ctp_results.loc[method,map_methods[modality_name]] = np.round(result.mean()[0]*100, 2)\n",
    "    \n",
    "    print(format_output(means_f1, means_ctp), '\\\\\\\\ \\\\hline')\n",
    "    print(\"========\"*10)\n",
    "\n",
    "for method, result in modality[['F1-Check', 'Method']].groupby(\"Method\"):\n",
    "    average_f1[method] = np.round(average_f1[method]/ len(SIMPLE_EVAL.groupby('MODALITY')), 2)\n",
    "    average_ctp[method] = np.round(average_ctp[method]/ len(SIMPLE_EVAL.groupby('MODALITY')), 2)\n",
    "    \n",
    "print(\"AVERAGE\")\n",
    "print(format_output(average_f1, average_ctp), '\\\\\\\\ \\\\hline')\n",
    "print(\"========\"*10)"
   ]
  },
  {
   "cell_type": "code",
   "execution_count": 67,
   "metadata": {},
   "outputs": [],
   "source": [
    "tp_results.to_csv(\"SIMPLE_F1_TP.csv\")\n",
    "ctp_results.to_csv(\"SIMPLE_F1_CTP.csv\")\n"
   ]
  },
  {
   "cell_type": "code",
   "execution_count": 56,
   "metadata": {},
   "outputs": [
    {
     "name": "stdout",
     "output_type": "stream",
     "text": [
      "SIMPLE/FORGERY/CLEANING/BF\n",
      " & \\num{0.00} & \\num{0.00}  & \\num{1.06} & \\num{0.09}  & \\num{0.00} & \\num{0.00}  & \\num{0.00} & \\num{0.00}  & \\num{0.42} & \\num{0.07}  & \\num{0.00} & \\num{0.00}  & \\textbf{\\num{15.83}}  & \\textbf{\\num{8.71}} \\\\ \\hline\n",
      "================================================================================\n",
      "SIMPLE/FORGERY/DUPLICATION/COPY-MOVE/FLIP\n",
      " & \\num{0.00} & \\num{0.00}  & \\num{1.13} & \\num{0.77}  & \\num{0.96} & \\num{0.94}  & \\num{1.04} & \\num{0.87}  & \\num{3.78} & \\num{2.15}  & \\num{0.12} & \\num{0.10}  & \\textbf{\\num{17.28}}  & \\textbf{\\num{5.94}} \\\\ \\hline\n",
      "================================================================================\n",
      "SIMPLE/FORGERY/DUPLICATION/COPY-MOVE/RANDOM\n",
      " & \\num{12.33} & \\num{12.25}  & \\num{14.55} & \\num{13.52}  & \\num{5.63} & \\num{5.63}  & \\num{10.24} & \\num{10.20}  & \\num{25.68} & \\num{22.36}  & \\num{3.86} & \\num{3.40}  & \\textbf{\\num{58.61}}  & \\textbf{\\num{46.56}} \\\\ \\hline\n",
      "================================================================================\n",
      "SIMPLE/FORGERY/DUPLICATION/COPY-MOVE/ROTATION\n",
      " & \\num{0.00} & \\num{0.00}  & \\num{0.82} & \\num{0.38}  & \\num{0.34} & \\num{0.34}  & \\num{0.68} & \\num{0.68}  & \\num{10.81} & \\textbf{\\num{8.87}} & \\num{1.27} & \\num{1.23}  & \\textbf{\\num{19.50}}  & \\num{6.92}  \\\\ \\hline\n",
      "================================================================================\n",
      "SIMPLE/FORGERY/DUPLICATION/COPY-MOVE/TRANSLATION\n",
      " & \\num{2.18} & \\num{0.94}  & \\num{5.36} & \\num{3.86}  & \\num{0.37} & \\num{0.37}  & \\num{0.73} & \\num{0.73}  & \\num{10.05} & \\num{6.49}  & \\num{2.13} & \\num{1.04}  & \\textbf{\\num{29.13}}  & \\textbf{\\num{17.12}} \\\\ \\hline\n",
      "================================================================================\n",
      "AVERAGE\n",
      " & \\num{2.90} & \\num{2.64}  & \\num{4.58} & \\num{3.72}  & \\num{1.46} & \\num{1.46}  & \\num{2.54} & \\num{2.50}  & \\num{10.15} & \\num{7.99}  & \\num{1.48} & \\num{1.15}  & \\textbf{\\num{28.07}}  & \\textbf{\\num{17.05}} \\\\ \\hline\n",
      "================================================================================\n"
     ]
    }
   ],
   "source": [
    "###  Modality - Precision Score\n",
    "average_f1 = {m:0 for m in [\"ZERNIKE-PM\",'SIFT-PM', \"SURF-VOLE\", \"SIFT-VOLE\", 'OVERSEG', 'HFPM', 'BUSTERNET']}\n",
    "average_ctp = {m:0 for m in [\"ZERNIKE-PM\",'SIFT-PM', \"SURF-VOLE\", \"SIFT-VOLE\", 'OVERSEG', 'HFPM', 'BUSTERNET']}\n",
    "\n",
    "for g in SIMPLE_EVAL.groupby('MODALITY'):\n",
    "    modality_name = g[0]\n",
    "    modality = g[1].drop(columns=[\"index\"])\n",
    "    means_f1 = {}\n",
    "    means_ctp = {}\n",
    "    print(modality_name.upper())\n",
    "    for method, result in modality[['Precision', 'Method']].groupby(\"Method\"):\n",
    "        means_f1[method] = \"%0.2f\"%(np.round(result.mean()[0]*100, 2))\n",
    "        average_f1[method] += np.round(result.mean()[0]*100, 2)\n",
    "    for method, result in modality[['Precision-Check', 'Method']].groupby(\"Method\"):\n",
    "        means_ctp[method] = \"%0.2f\"%(np.round(result.mean()[0]*100, 2))\n",
    "        average_ctp[method] += result.mean()[0]*100\n",
    "    \n",
    "    print(format_output(means_f1, means_ctp), '\\\\\\\\ \\\\hline')\n",
    "    print(\"========\"*10)\n",
    "\n",
    "for method, result in modality[['F1-Check', 'Method']].groupby(\"Method\"):\n",
    "    average_f1[method] = np.round(average_f1[method]/ len(SIMPLE_EVAL.groupby('MODALITY')), 2)\n",
    "    average_ctp[method] = np.round(average_ctp[method]/ len(SIMPLE_EVAL.groupby('MODALITY')), 2)\n",
    "    \n",
    "print(\"AVERAGE\")\n",
    "print(format_output(average_f1, average_ctp), '\\\\\\\\ \\\\hline')\n",
    "print(\"========\"*10)"
   ]
  },
  {
   "cell_type": "code",
   "execution_count": null,
   "metadata": {},
   "outputs": [],
   "source": []
  },
  {
   "cell_type": "markdown",
   "metadata": {},
   "source": [
    "output_string"
   ]
  },
  {
   "cell_type": "code",
   "execution_count": 23,
   "metadata": {},
   "outputs": [
    {
     "name": "stdout",
     "output_type": "stream",
     "text": [
      "Modality - Precision with Check\tZERNIKE-PM\tSIFT-PM\tSURF-VOLE\tSIFT-VOLE\tBUSTERNET\n",
      "simple/forgery/cleaning/bf\t0.00000\t0.00123\t0.00000\t0.00000\t0.08711\n",
      "simple/forgery/duplication/copy-move/flip\t0.00000\t0.00673\t0.00768\t0.00752\t0.05939\n",
      "simple/forgery/duplication/copy-move/random\t0.12031\t0.12244\t0.05616\t0.10193\t0.46559\n",
      "simple/forgery/duplication/copy-move/rotation\t0.00000\t0.00359\t0.00331\t0.00597\t0.06919\n",
      "simple/forgery/duplication/copy-move/translation\t0.01919\t0.03726\t0.00375\t0.00688\t0.17123\n",
      "\n"
     ]
    }
   ],
   "source": [
    "print(x.get_csv_string(delimiter='\\t'))"
   ]
  }
 ],
 "metadata": {
  "kernelspec": {
   "display_name": "Python (PY3)",
   "language": "python",
   "name": "py3"
  },
  "language_info": {
   "codemirror_mode": {
    "name": "ipython",
    "version": 3
   },
   "file_extension": ".py",
   "mimetype": "text/x-python",
   "name": "python",
   "nbconvert_exporter": "python",
   "pygments_lexer": "ipython3",
   "version": "3.7.3"
  }
 },
 "nbformat": 4,
 "nbformat_minor": 4
}
