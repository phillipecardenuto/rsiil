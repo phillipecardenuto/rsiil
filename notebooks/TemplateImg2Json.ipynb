{
 "cells": [
  {
   "cell_type": "markdown",
   "id": "21f53246-76b8-4fdc-99da-f0cad130fb95",
   "metadata": {},
   "source": [
    "# Transform Template Image in Json format\n"
   ]
  },
  {
   "cell_type": "code",
   "execution_count": 56,
   "id": "ba807871-ef04-4d24-ac8d-a2033e26387a",
   "metadata": {},
   "outputs": [
    {
     "name": "stdout",
     "output_type": "stream",
     "text": [
      "Populating the interactive namespace from numpy and matplotlib\n"
     ]
    }
   ],
   "source": [
    "from scipy import ndimage as ndi\n",
    "import cv2\n",
    "import json\n",
    "%pylab inline\n"
   ]
  },
  {
   "cell_type": "code",
   "execution_count": 39,
   "id": "3e328bb2-d8fc-4a37-89b1-430caf2b709e",
   "metadata": {},
   "outputs": [],
   "source": [
    "img_orig = cv2.imread(\"synthetical-vs-real-world/1/rw_template.png\", cv2.IMREAD_GRAYSCALE)"
   ]
  },
  {
   "cell_type": "code",
   "execution_count": 40,
   "id": "08ca69b3-e8ad-46cc-8b59-dad03468239e",
   "metadata": {},
   "outputs": [],
   "source": [
    "img[img>0] = 255\n",
    "obj_labels, total_obj = ndi.label(img)"
   ]
  },
  {
   "cell_type": "code",
   "execution_count": 30,
   "id": "9c3d2197-effd-42a7-9f04-b545ec3e3628",
   "metadata": {},
   "outputs": [
    {
     "data": {
      "text/plain": [
       "<matplotlib.image.AxesImage at 0x7ff4fd3fad90>"
      ]
     },
     "execution_count": 30,
     "metadata": {},
     "output_type": "execute_result"
    },
    {
     "data": {
      "image/png": "[encoded data removed]",
      "text/plain": [
       "<Figure size 432x288 with 1 Axes>"
      ]
     },
     "metadata": {
      "needs_background": "light"
     },
     "output_type": "display_data"
    }
   ],
   "source": [
    "plt.imshow(obj_labels)"
   ]
  },
  {
   "cell_type": "code",
   "execution_count": 58,
   "id": "40e6b1c6-bf59-46da-966e-36bbb0cb40a1",
   "metadata": {},
   "outputs": [],
   "source": [
    "json_annotation = {}\n",
    "height, width = img.shape\n",
    "json_annotation['orig_height'] = height  \n",
    "json_annotation['orig_width'] = width\n",
    "json_annotation['aspect_rate'] = json_annotation['orig_width'] / json_annotation['orig_height']\n",
    "\n",
    "img_orig = cv2.imread(\"synthetical-vs-real-world/1/rw_template.png\", cv2.IMREAD_GRAYSCALE)\n",
    "img[img>0] = 255\n",
    "obj_labels, total_obj = ndi.label(img)\n",
    "objs_bboxs = ndi.find_objects(obj_labels)\n",
    "index = 1\n",
    "for bbox_slice in objs_bboxs:\n",
    "    if img_orig[bbox_slice].mean() >= 200:\n",
    "        cls = 'WesternBlot'\n",
    "    else:\n",
    "        cls = 'Graphs'\n",
    "        \n",
    "    bbox = {}\n",
    "    bbox['x0'] = bbox_slice[1].start / json_annotation['orig_width']\n",
    "    bbox['x1'] = bbox_slice[1].stop / json_annotation['orig_width']\n",
    "    bbox['y0'] = bbox_slice[0].start / json_annotation['orig_height']\n",
    "    bbox['y1'] = bbox_slice[0].stop /json_annotation['orig_height']\n",
    "    \n",
    "    json_annotation[f'{index:03}'] = {'bbox': bbox,\n",
    "                'class': cls\n",
    "            }\n",
    "    index +=1\n",
    "with open('template.json','w') as wj:\n",
    "    json.dump(json_annotation,wj)"
   ]
  },
  {
   "cell_type": "code",
   "execution_count": null,
   "id": "63029f77-034c-425a-b63b-c5df391dbcc4",
   "metadata": {},
   "outputs": [],
   "source": [
    "for wj in wrong_jsons:\n",
    "    \n",
    "    with open(wj,'r') as jf:\n",
    "        data = json.load(jf)\n",
    "    \n",
    "    new_data = {}\n",
    "    \n",
    "    new_data['orig_height'] = data['height']    \n",
    "    new_data['orig_width'] = data['width']\n",
    "    new_data['aspect_rate'] = new_data['orig_width'] / new_data['orig_height']\n",
    "    \n",
    "    for key,value in data.items():\n",
    "        if  type(value) is dict:\n",
    "            bbox = value['bbox']\n",
    "            bbox['x0'] /= new_data['orig_width']\n",
    "            bbox['x1'] /= new_data['orig_width']\n",
    "            bbox['y0'] /= new_data['orig_height']\n",
    "            bbox['y1'] /= new_data['orig_height']\n",
    "            \n",
    "            new_data[key] = {'bbox': bbox,\n",
    "                'class': value['class']\n",
    "            }\n",
    "    with open(wj,'w') as wj:\n",
    "        json.dump(new_data,wj)\n"
   ]
  }
 ],
 "metadata": {
  "kernelspec": {
   "display_name": "Python (PY3)",
   "language": "python",
   "name": "py3"
  },
  "language_info": {
   "codemirror_mode": {
    "name": "ipython",
    "version": 3
   },
   "file_extension": ".py",
   "mimetype": "text/x-python",
   "name": "python",
   "nbconvert_exporter": "python",
   "pygments_lexer": "ipython3",
   "version": "3.7.3"
  }
 },
 "nbformat": 4,
 "nbformat_minor": 5
}
